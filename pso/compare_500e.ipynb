{
 "cells": [
  {
   "cell_type": "code",
   "execution_count": 8,
   "metadata": {},
   "outputs": [],
   "source": [
    "import numpy as np\n",
    "from freelunch import PSO, PAO, benchmarks\n",
    "import statistics\n",
    "from PSO import PSO as PSO_h\n",
    "from iwPSO import iwPSO\n",
    "from DNLPSO import DNLPSO_simple\n",
    "from functions import rastrigin"
   ]
  },
  {
   "cell_type": "code",
   "execution_count": 9,
   "metadata": {},
   "outputs": [],
   "source": [
    "data = {'pso_fr':{}, 'pao':{}, 'pso_':{}, 'iwpso':{}, 'dnlpso':{}}"
   ]
  },
  {
   "cell_type": "code",
   "execution_count": 10,
   "metadata": {},
   "outputs": [
    {
     "name": "stdout",
     "output_type": "stream",
     "text": [
      "PSO-FREELUNCH\n",
      "Dim: 2\n",
      "Mean: 0.06633060380694668\n",
      "Stdev: 0.2524292034953845\n",
      "Min: 0.0\n",
      "Max: 0.9949590570932898\n",
      "Mean: 0.06633060380694668\n",
      "\n",
      "PSO-FREELUNCH\n",
      "Dim: 5\n",
      "Mean: 6.639065496866598\n",
      "Stdev: 3.651621278921722\n",
      "Min: 0.9972627750169494\n",
      "Max: 14.924351486054142\n",
      "Mean: 6.639065496866598\n",
      "\n",
      "PSO-FREELUNCH\n",
      "Dim: 10\n",
      "Mean: 28.03619626713439\n",
      "Stdev: 10.370602326854678\n",
      "Min: 10.62329497545376\n",
      "Max: 52.523883210374166\n",
      "Mean: 28.03619626713439\n",
      "\n",
      "PSO-FREELUNCH\n",
      "Dim: 30\n",
      "Mean: 183.5576705884848\n",
      "Stdev: 32.951884772388084\n",
      "Min: 110.86688537304198\n",
      "Max: 235.18584600092737\n",
      "Mean: 183.5576705884848\n",
      "\n",
      "PSO-FREELUNCH\n",
      "Dim: 50\n",
      "Mean: 359.9844457504074\n",
      "Stdev: 49.91645265517916\n",
      "Min: 276.69828243271826\n",
      "Max: 479.6135403853388\n",
      "Mean: 359.9844457504074\n",
      "\n"
     ]
    }
   ],
   "source": [
    "for d in [2,5,10,30,50]:\n",
    "    pso = PSO(benchmarks.Ragstrin(n=d),bounds=np.array([[-5.12,5.12]]*d))\n",
    "    pso.hypers.update({'N':50, 'G':500})\n",
    "    runs = []\n",
    "    for _ in range(30):\n",
    "        runs.append(rastrigin(pso())[0])\n",
    "    print(f'''PSO-FREELUNCH\n",
    "Dim: {d}\n",
    "Mean: {statistics.mean(runs)}\n",
    "Stdev: {statistics.stdev(runs)}\n",
    "Min: {min(runs)}\n",
    "Max: {max(runs)}\n",
    "Mean: {statistics.mean(runs)}\n",
    "''')\n",
    "    data['pso_fr'][d] = {'dim':d, 'mean':statistics.mean(runs), 'stdev':statistics.stdev(runs),'min':min(runs),'max':max(runs)}"
   ]
  },
  {
   "cell_type": "code",
   "execution_count": 11,
   "metadata": {},
   "outputs": [
    {
     "name": "stdout",
     "output_type": "stream",
     "text": [
      "PAO\n",
      "Dim: 2\n",
      "Mean: 0.03316530190310966\n",
      "Stdev: 0.18165383978802177\n",
      "Min: 0.0\n",
      "Max: 0.9949590570932898\n",
      "Mean: 0.03316530190310966\n",
      "\n",
      "PAO\n",
      "Dim: 5\n",
      "Mean: 1.1607853986815357\n",
      "Stdev: 1.0478737909055187\n",
      "Min: 0.0\n",
      "Max: 4.974790247647377\n",
      "Mean: 1.1607853986815357\n",
      "\n",
      "PAO\n",
      "Dim: 10\n",
      "Mean: 9.518432405647033\n",
      "Stdev: 4.2829275235145605\n",
      "Min: 1.9899181141865938\n",
      "Max: 17.909227717507548\n",
      "Mean: 9.518432405647033\n",
      "\n",
      "PAO\n",
      "Dim: 30\n",
      "Mean: 90.23687634914813\n",
      "Stdev: 25.000641890779104\n",
      "Min: 47.44446093675052\n",
      "Max: 142.35035433424375\n",
      "Mean: 90.23687634914813\n",
      "\n",
      "PAO\n",
      "Dim: 50\n",
      "Mean: 204.23429007001332\n",
      "Stdev: 35.02029766070401\n",
      "Min: 149.43610989126836\n",
      "Max: 271.36185203825113\n",
      "Mean: 204.23429007001332\n",
      "\n"
     ]
    }
   ],
   "source": [
    "for d in [2,5,10,30,50]:\n",
    "    pao = PAO(benchmarks.Ragstrin(n=d),bounds=np.array([[-5.12,5.12]]*d))\n",
    "    pao.hypers.update({'N':50, 'G':500})\n",
    "    runs = []\n",
    "    for _ in range(30):\n",
    "        runs.append(rastrigin(pao())[0])\n",
    "    print(f'''PAO\n",
    "Dim: {d}\n",
    "Mean: {statistics.mean(runs)}\n",
    "Stdev: {statistics.stdev(runs)}\n",
    "Min: {min(runs)}\n",
    "Max: {max(runs)}\n",
    "Mean: {statistics.mean(runs)}\n",
    "''')\n",
    "    data['pao'][d] = {'dim':d, 'mean':statistics.mean(runs), 'stdev':statistics.stdev(runs),'min':min(runs),'max':max(runs)}"
   ]
  },
  {
   "cell_type": "code",
   "execution_count": 12,
   "metadata": {},
   "outputs": [
    {
     "name": "stdout",
     "output_type": "stream",
     "text": [
      "PSO-HUGO\n",
      "Dim: 2\n",
      "Mean: 8.695116939705371e-06\n",
      "Stdev: 1.1622444557023465e-05\n",
      "Min: 2.762105211218113e-07\n",
      "Max: 5.151434282524292e-05\n",
      "Mean: 8.695116939705371e-06\n",
      "\n",
      "PSO-HUGO\n",
      "Dim: 5\n",
      "Mean: 2.5002661863223943\n",
      "Stdev: 1.349529015601847\n",
      "Min: 0.019802773360261483\n",
      "Max: 5.971427922763873\n",
      "Mean: 2.5002661863223943\n",
      "\n",
      "PSO-HUGO\n",
      "Dim: 10\n",
      "Mean: 10.848388845120617\n",
      "Stdev: 4.671569341306338\n",
      "Min: 3.995471036165938\n",
      "Max: 21.984458247389966\n",
      "Mean: 10.848388845120617\n",
      "\n",
      "PSO-HUGO\n",
      "Dim: 30\n",
      "Mean: 38.339490047579\n",
      "Stdev: 5.707821858417357\n",
      "Min: 22.860875969062135\n",
      "Max: 49.963847716245084\n",
      "Mean: 38.339490047579\n",
      "\n",
      "PSO-HUGO\n",
      "Dim: 50\n",
      "Mean: 82.23626348627165\n",
      "Stdev: 17.24726944764291\n",
      "Min: 57.02164762842801\n",
      "Max: 111.47523587499603\n",
      "Mean: 82.23626348627165\n",
      "\n"
     ]
    }
   ],
   "source": [
    "for d in [2,5,10,30,50]:\n",
    "    runs = []\n",
    "    for _ in range(30):\n",
    "        runs.append(PSO_h(rastrigin,dim=d,swarm_size=50,max_epoch=500)[1])\n",
    "    print(f'''PSO-HUGO\n",
    "Dim: {d}\n",
    "Mean: {statistics.mean(runs)}\n",
    "Stdev: {statistics.stdev(runs)}\n",
    "Min: {min(runs)}\n",
    "Max: {max(runs)}\n",
    "Mean: {statistics.mean(runs)}\n",
    "''')\n",
    "    data['pso_'][d] = {'dim':d, 'mean':statistics.mean(runs), 'stdev':statistics.stdev(runs),'min':min(runs),'max':max(runs)}"
   ]
  },
  {
   "cell_type": "code",
   "execution_count": 13,
   "metadata": {},
   "outputs": [
    {
     "name": "stdout",
     "output_type": "stream",
     "text": [
      "iwPSO\n",
      "Dim: 2\n",
      "Mean: 0.0\n",
      "Stdev: 0.0\n",
      "Min: 0.0\n",
      "Max: 0.0\n",
      "Mean: 0.0\n",
      "\n",
      "iwPSO\n",
      "Dim: 5\n",
      "Mean: 2.421066535145098\n",
      "Stdev: 1.6251104312517803\n",
      "Min: 0.0\n",
      "Max: 6.9647083618339565\n",
      "Mean: 2.421066535145098\n",
      "\n",
      "iwPSO\n",
      "Dim: 10\n",
      "Mean: 9.750591702552667\n",
      "Stdev: 5.021910578406709\n",
      "Min: 1.9899181143255191\n",
      "Max: 22.88403335960041\n",
      "Mean: 9.750591702552667\n",
      "\n",
      "iwPSO\n",
      "Dim: 30\n",
      "Mean: 35.01141280761081\n",
      "Stdev: 10.347335445761736\n",
      "Min: 20.699341884331773\n",
      "Max: 69.13712636596966\n",
      "Mean: 35.01141280761081\n",
      "\n",
      "iwPSO\n",
      "Dim: 50\n",
      "Mean: 77.6404119514592\n",
      "Stdev: 21.45827195603316\n",
      "Min: 53.94615792884872\n",
      "Max: 134.131091420963\n",
      "Mean: 77.6404119514592\n",
      "\n"
     ]
    }
   ],
   "source": [
    "for d in [2,5,10,30,50]:\n",
    "    runs = []\n",
    "    for _ in range(30):\n",
    "        runs.append(iwPSO(rastrigin,dim=d,swarm_size=50,max_epoch=500)[1])\n",
    "    print(f'''iwPSO\n",
    "Dim: {d}\n",
    "Mean: {statistics.mean(runs)}\n",
    "Stdev: {statistics.stdev(runs)}\n",
    "Min: {min(runs)}\n",
    "Max: {max(runs)}\n",
    "Mean: {statistics.mean(runs)}\n",
    "''')\n",
    "    data['iwpso'][d] = {'dim':d, 'mean':statistics.mean(runs), 'stdev':statistics.stdev(runs),'min':min(runs),'max':max(runs)}"
   ]
  },
  {
   "cell_type": "code",
   "execution_count": 14,
   "metadata": {},
   "outputs": [
    {
     "name": "stdout",
     "output_type": "stream",
     "text": [
      "DNLPSO\n",
      "Dim: 2\n",
      "Mean: 0.0\n",
      "Stdev: 0.0\n",
      "Min: 0.0\n",
      "Max: 0.0\n",
      "Mean: 0.0\n",
      "\n",
      "DNLPSO\n",
      "Dim: 5\n",
      "Mean: 2.1889097576793555\n",
      "Stdev: 1.554614526966269\n",
      "Min: 7.105427357601002e-15\n",
      "Max: 5.969749304740688\n",
      "Mean: 2.1889097576793555\n",
      "\n",
      "DNLPSO\n",
      "Dim: 10\n",
      "Mean: 8.191827694122285\n",
      "Stdev: 3.673715661804466\n",
      "Min: 1.9899213781805685\n",
      "Max: 15.91933521920744\n",
      "Mean: 8.191827694122285\n",
      "\n",
      "DNLPSO\n",
      "Dim: 30\n",
      "Mean: 26.71439937497963\n",
      "Stdev: 7.813303190976591\n",
      "Min: 15.716712551203273\n",
      "Max: 50.38938598074344\n",
      "Mean: 26.71439937497963\n",
      "\n",
      "DNLPSO\n",
      "Dim: 50\n",
      "Mean: 59.17750648877081\n",
      "Stdev: 8.702818851964787\n",
      "Min: 41.344314018558066\n",
      "Max: 79.05165121351263\n",
      "Mean: 59.17750648877081\n",
      "\n"
     ]
    }
   ],
   "source": [
    "for d in [2,5,10,30,50]:\n",
    "    runs = []\n",
    "    for _ in range(30):\n",
    "        runs.append(DNLPSO_simple(rastrigin,dim=d,swarm_size=50,max_epoch=500)[1])\n",
    "    print(f'''DNLPSO\n",
    "Dim: {d}\n",
    "Mean: {statistics.mean(runs)}\n",
    "Stdev: {statistics.stdev(runs)}\n",
    "Min: {min(runs)}\n",
    "Max: {max(runs)}\n",
    "Mean: {statistics.mean(runs)}\n",
    "''')\n",
    "    data['dnlpso'][d] = {'dim':d, 'mean':statistics.mean(runs), 'stdev':statistics.stdev(runs),'min':min(runs),'max':max(runs)}"
   ]
  },
  {
   "cell_type": "code",
   "execution_count": 15,
   "metadata": {},
   "outputs": [],
   "source": [
    "import pickle\n",
    "pickle.dump(data,open('pso50500','wb'))"
   ]
  },
  {
   "cell_type": "code",
   "execution_count": 16,
   "metadata": {},
   "outputs": [],
   "source": [
    "from freelunch import QPSO"
   ]
  },
  {
   "cell_type": "code",
   "execution_count": 39,
   "metadata": {},
   "outputs": [],
   "source": [
    "q = QPSO(rastrigin,bounds=np.array([[-5.12,5.12]]*5))"
   ]
  },
  {
   "cell_type": "code",
   "execution_count": 48,
   "metadata": {},
   "outputs": [
    {
     "data": {
      "text/plain": [
       "{'N': 100,\n",
       " 'G': 200,\n",
       " 'alpha': array([1. , 0.5]),\n",
       " 'bounding': 'sticky_bounds',\n",
       " 'initialisation': 'uniform_continuous_init'}"
      ]
     },
     "execution_count": 48,
     "metadata": {},
     "output_type": "execute_result"
    }
   ],
   "source": [
    "q.hypers"
   ]
  },
  {
   "cell_type": "code",
   "execution_count": 49,
   "metadata": {},
   "outputs": [
    {
     "data": {
      "text/plain": [
       "{'N': 100,\n",
       " 'G': 200,\n",
       " 'I': array([0.1, 0.9]),\n",
       " 'A': array([0.1, 0.1]),\n",
       " 'bounding': 'sticky_bounds',\n",
       " 'initialisation': 'uniform_continuous_init'}"
      ]
     },
     "execution_count": 49,
     "metadata": {},
     "output_type": "execute_result"
    }
   ],
   "source": [
    "p = PSO(rastrigin,bounds=np.array([[-5.12,5.12]]*5))\n",
    "p.hypers"
   ]
  },
  {
   "cell_type": "code",
   "execution_count": 29,
   "metadata": {},
   "outputs": [
    {
     "data": {
      "text/plain": [
       "6.0"
      ]
     },
     "execution_count": 29,
     "metadata": {},
     "output_type": "execute_result"
    }
   ],
   "source": [
    "rastrigin(a)"
   ]
  },
  {
   "cell_type": "code",
   "execution_count": 52,
   "metadata": {},
   "outputs": [
    {
     "data": {
      "text/plain": [
       "76.0"
      ]
     },
     "execution_count": 52,
     "metadata": {},
     "output_type": "execute_result"
    }
   ],
   "source": [
    "a = np.array([1,2,1])\n",
    "f = benchmarks.Ragstrin(n=10)\n",
    "f(a)"
   ]
  },
  {
   "cell_type": "code",
   "execution_count": 47,
   "metadata": {},
   "outputs": [
    {
     "data": {
      "text/plain": [
       "6.0"
      ]
     },
     "execution_count": 47,
     "metadata": {},
     "output_type": "execute_result"
    }
   ],
   "source": [
    "f(a)\n"
   ]
  },
  {
   "cell_type": "code",
   "execution_count": 55,
   "metadata": {},
   "outputs": [],
   "source": [
    "a = np.random.rand(10,10)"
   ]
  },
  {
   "cell_type": "code",
   "execution_count": 57,
   "metadata": {},
   "outputs": [
    {
     "data": {
      "text/plain": [
       "array([120.25, 104.41, 109.98, 130.4 , 102.86, 115.69, 132.6 ,  97.52,\n",
       "        60.36, 141.75])"
      ]
     },
     "execution_count": 57,
     "metadata": {},
     "output_type": "execute_result"
    }
   ],
   "source": [
    "np.array([f(x) for x in a])"
   ]
  },
  {
   "cell_type": "code",
   "execution_count": 58,
   "metadata": {},
   "outputs": [
    {
     "data": {
      "text/plain": [
       "array([120.25, 104.41, 109.98, 130.4 , 102.86, 115.69, 132.6 ,  97.52,\n",
       "        60.36, 141.75])"
      ]
     },
     "execution_count": 58,
     "metadata": {},
     "output_type": "execute_result"
    }
   ],
   "source": [
    "rastrigin(a)"
   ]
  },
  {
   "cell_type": "code",
   "execution_count": null,
   "metadata": {},
   "outputs": [],
   "source": []
  }
 ],
 "metadata": {
  "kernelspec": {
   "display_name": "Python 3",
   "language": "python",
   "name": "python3"
  },
  "language_info": {
   "codemirror_mode": {
    "name": "ipython",
    "version": 3
   },
   "file_extension": ".py",
   "mimetype": "text/x-python",
   "name": "python",
   "nbconvert_exporter": "python",
   "pygments_lexer": "ipython3",
   "version": "3.11.4"
  },
  "orig_nbformat": 4
 },
 "nbformat": 4,
 "nbformat_minor": 2
}
