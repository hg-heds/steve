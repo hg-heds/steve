{
 "cells": [
  {
   "cell_type": "code",
   "execution_count": 5,
   "metadata": {},
   "outputs": [],
   "source": [
    "import numpy as np\n",
    "from freelunch import PSO, PAO, benchmarks, QPSO\n",
    "import statistics\n",
    "from PSO import PSO as PSO_h\n",
    "from iwPSO import iwPSO\n",
    "from DNLPSO import DNLPSO_simple\n",
    "from functions import rastrigin"
   ]
  },
  {
   "cell_type": "code",
   "execution_count": 6,
   "metadata": {},
   "outputs": [],
   "source": [
    "data = {'pso_fr':{}, 'pao':{}, 'pso_':{}, 'iwpso':{}, 'dnlpso':{}, 'qpso':{}}"
   ]
  },
  {
   "cell_type": "code",
   "execution_count": 7,
   "metadata": {},
   "outputs": [],
   "source": [
    "# for d in [2,5,10,30,50]:\n",
    "#     pso = PSO(benchmarks.Ragstrin(n=d),bounds=np.array([[-5.12,5.12]]*d))\n",
    "#     pso.hypers.update({'N':200, 'G':500})\n",
    "#     runs = []\n",
    "#     for _ in range(30):\n",
    "#         runs.append(rastrigin(pso())[0])\n",
    "#     print(f'''PSO-FREELUNCH\n",
    "# Dim: {d}\n",
    "# Mean: {statistics.mean(runs)}\n",
    "# Stdev: {statistics.stdev(runs)}\n",
    "# Min: {min(runs)}\n",
    "# Max: {max(runs)}\n",
    "# Mean: {statistics.mean(runs)}\n",
    "# ''')\n",
    "#     data['pso_'][d] = {'dim':d, 'mean':statistics.mean(runs), 'stdev':statistics.stdev(runs),'min':min(runs),'max':max(runs)}"
   ]
  },
  {
   "cell_type": "code",
   "execution_count": 8,
   "metadata": {},
   "outputs": [
    {
     "name": "stdout",
     "output_type": "stream",
     "text": [
      "PAO\n",
      "Dim: 2\n",
      "Mean: 0.0\n",
      "Stdev: 0.0\n",
      "Min: 0.0\n",
      "Max: 0.0\n",
      "Mean: 0.0\n",
      "\n",
      "PAO\n",
      "Dim: 5\n",
      "Mean: 0.7960018182466613\n",
      "Stdev: 0.8010741543998109\n",
      "Min: 0.0\n",
      "Max: 2.9848771712798694\n",
      "Mean: 0.7960018182466613\n",
      "\n",
      "PAO\n",
      "Dim: 10\n",
      "Mean: 5.140776391754068\n",
      "Stdev: 2.008346183169315\n",
      "Min: 6.178031526360428e-07\n",
      "Max: 7.959667418928106\n",
      "Mean: 5.140776391754068\n",
      "\n",
      "PAO\n",
      "Dim: 30\n",
      "Mean: 76.75969409707247\n",
      "Stdev: 22.318074642886675\n",
      "Min: 44.81511849083569\n",
      "Max: 119.57913571606912\n",
      "Mean: 76.75969409707247\n",
      "\n"
     ]
    }
   ],
   "source": [
    "for d in [2,5,10,30]:\n",
    "    pao = PAO(benchmarks.Ragstrin(n=d),bounds=np.array([[-5.12,5.12]]*d))\n",
    "    pao.hypers.update({'N':100, 'G':200})\n",
    "    runs = []\n",
    "    for _ in range(30):\n",
    "        runs.append(rastrigin(pao())[0])\n",
    "    print(f'''PAO\n",
    "Dim: {d}\n",
    "Mean: {statistics.mean(runs)}\n",
    "Stdev: {statistics.stdev(runs)}\n",
    "Min: {min(runs)}\n",
    "Max: {max(runs)}\n",
    "Mean: {statistics.mean(runs)}\n",
    "''')\n",
    "    data['pao'][d] = {'dim':d, 'mean':statistics.mean(runs), 'stdev':statistics.stdev(runs),'min':min(runs),'max':max(runs)}"
   ]
  },
  {
   "cell_type": "code",
   "execution_count": 9,
   "metadata": {},
   "outputs": [
    {
     "name": "stdout",
     "output_type": "stream",
     "text": [
      "PSO-HUGO\n",
      "Dim: 2\n",
      "Mean: 2.4382136251451434e-05\n",
      "Stdev: 4.551931352357533e-05\n",
      "Min: 1.3001026744063893e-07\n",
      "Max: 0.00022996541607511745\n",
      "Mean: 2.4382136251451434e-05\n",
      "\n",
      "PSO-HUGO\n",
      "Dim: 5\n",
      "Mean: 2.4040948336868455\n",
      "Stdev: 1.2646300389581075\n",
      "Min: 0.000460124698996367\n",
      "Max: 4.9824819557716395\n",
      "Mean: 2.4040948336868455\n",
      "\n",
      "PSO-HUGO\n",
      "Dim: 10\n",
      "Mean: 7.999872652655459\n",
      "Stdev: 2.9099604245447206\n",
      "Min: 4.078858473841336\n",
      "Max: 14.1768982186139\n",
      "Mean: 7.999872652655459\n",
      "\n",
      "PSO-HUGO\n",
      "Dim: 30\n",
      "Mean: 38.711988444349196\n",
      "Stdev: 11.511553274509959\n",
      "Min: 20.30290490200838\n",
      "Max: 62.60292558586076\n",
      "Mean: 38.711988444349196\n",
      "\n"
     ]
    }
   ],
   "source": [
    "for d in [2,5,10,30]:\n",
    "    runs = []\n",
    "    for _ in range(30):\n",
    "        runs.append(PSO_h(rastrigin,dim=d,swarm_size=100,max_epoch=200)[1])\n",
    "    print(f'''PSO-HUGO\n",
    "Dim: {d}\n",
    "Mean: {statistics.mean(runs)}\n",
    "Stdev: {statistics.stdev(runs)}\n",
    "Min: {min(runs)}\n",
    "Max: {max(runs)}\n",
    "Mean: {statistics.mean(runs)}\n",
    "''')\n",
    "    data['pso_'][d] = {'dim':d, 'mean':statistics.mean(runs), 'stdev':statistics.stdev(runs),'min':min(runs),'max':max(runs)}"
   ]
  },
  {
   "cell_type": "code",
   "execution_count": 10,
   "metadata": {},
   "outputs": [
    {
     "name": "stdout",
     "output_type": "stream",
     "text": [
      "iwPSO\n",
      "Dim: 2\n",
      "Mean: 0.0\n",
      "Stdev: 0.0\n",
      "Min: 0.0\n",
      "Max: 0.0\n",
      "Mean: 0.0\n",
      "\n",
      "iwPSO\n",
      "Dim: 5\n",
      "Mean: 1.8572567386954237\n",
      "Stdev: 1.245812307672428\n",
      "Min: 0.0\n",
      "Max: 4.974790247647377\n",
      "Mean: 1.8572567386954237\n",
      "\n",
      "iwPSO\n",
      "Dim: 10\n",
      "Mean: 7.9596709354156605\n",
      "Stdev: 3.305064662679916\n",
      "Min: 2.984877171397912\n",
      "Max: 14.924355584505534\n",
      "Mean: 7.9596709354156605\n",
      "\n",
      "iwPSO\n",
      "Dim: 30\n",
      "Mean: 31.861005377982387\n",
      "Stdev: 8.823357028644082\n",
      "Min: 14.850909203690549\n",
      "Max: 48.88301200184523\n",
      "Mean: 31.861005377982387\n",
      "\n"
     ]
    }
   ],
   "source": [
    "for d in [2,5,10,30]:\n",
    "    runs = []\n",
    "    for _ in range(30):\n",
    "        runs.append(iwPSO(rastrigin,dim=d,swarm_size=100,max_epoch=200)[1])\n",
    "    print(f'''iwPSO\n",
    "Dim: {d}\n",
    "Mean: {statistics.mean(runs)}\n",
    "Stdev: {statistics.stdev(runs)}\n",
    "Min: {min(runs)}\n",
    "Max: {max(runs)}\n",
    "Mean: {statistics.mean(runs)}\n",
    "''')\n",
    "    data['iwpso'][d] = {'dim':d, 'mean':statistics.mean(runs), 'stdev':statistics.stdev(runs),'min':min(runs),'max':max(runs)}"
   ]
  },
  {
   "cell_type": "code",
   "execution_count": 11,
   "metadata": {},
   "outputs": [
    {
     "name": "stdout",
     "output_type": "stream",
     "text": [
      "DNLPSO\n",
      "Dim: 2\n",
      "Mean: 1.7289873236829103e-14\n",
      "Stdev: 5.1286643204852965e-14\n",
      "Min: 0.0\n",
      "Max: 2.8066438062523957e-13\n",
      "Mean: 1.7289873236829103e-14\n",
      "\n",
      "DNLPSO\n",
      "Dim: 5\n",
      "Mean: 1.5588376242086015\n",
      "Stdev: 0.8932014415200161\n",
      "Min: 2.5990750174287314e-07\n",
      "Max: 2.986609638542376\n",
      "Mean: 1.5588376242086015\n",
      "\n",
      "DNLPSO\n",
      "Dim: 10\n",
      "Mean: 6.043052359142363\n",
      "Stdev: 2.993496793632229\n",
      "Min: 0.9988730219100859\n",
      "Max: 12.936802682620979\n",
      "Mean: 6.043052359142363\n",
      "\n",
      "DNLPSO\n",
      "Dim: 30\n",
      "Mean: 32.17403831482913\n",
      "Stdev: 7.502609103890918\n",
      "Min: 21.44488958634537\n",
      "Max: 50.742608535362535\n",
      "Mean: 32.17403831482913\n",
      "\n"
     ]
    }
   ],
   "source": [
    "for d in [2,5,10,30]:\n",
    "    runs = []\n",
    "    for _ in range(30):\n",
    "        runs.append(DNLPSO_simple(rastrigin,dim=d,swarm_size=100,max_epoch=200)[1])\n",
    "    print(f'''DNLPSO\n",
    "Dim: {d}\n",
    "Mean: {statistics.mean(runs)}\n",
    "Stdev: {statistics.stdev(runs)}\n",
    "Min: {min(runs)}\n",
    "Max: {max(runs)}\n",
    "Mean: {statistics.mean(runs)}\n",
    "''')\n",
    "    data['dnlpso'][d] = {'dim':d, 'mean':statistics.mean(runs), 'stdev':statistics.stdev(runs),'min':min(runs),'max':max(runs)}"
   ]
  },
  {
   "cell_type": "code",
   "execution_count": 12,
   "metadata": {},
   "outputs": [
    {
     "name": "stdout",
     "output_type": "stream",
     "text": [
      "PAO\n",
      "Dim: 2\n",
      "Mean: 4.5661142781365055e-05\n",
      "Stdev: 0.00016588649496019676\n",
      "Min: 0.0\n",
      "Max: 0.0008650649175336866\n",
      "Mean: 4.5661142781365055e-05\n",
      "\n",
      "PAO\n",
      "Dim: 5\n",
      "Mean: 0.6872161629637676\n",
      "Stdev: 0.7724729719528438\n",
      "Min: 0.00020248673114053872\n",
      "Max: 2.989291221814547\n",
      "Mean: 0.6872161629637676\n",
      "\n",
      "PAO\n",
      "Dim: 10\n",
      "Mean: 6.970444140088738\n",
      "Stdev: 5.208273599160585\n",
      "Min: 0.08563172507354011\n",
      "Max: 24.060657080514858\n",
      "Mean: 6.970444140088738\n",
      "\n",
      "PAO\n",
      "Dim: 30\n",
      "Mean: 50.2021318023331\n",
      "Stdev: 17.385626010718504\n",
      "Min: 25.870130111912374\n",
      "Max: 111.07148052042066\n",
      "Mean: 50.2021318023331\n",
      "\n"
     ]
    }
   ],
   "source": [
    "for d in [2,5,10,30]:\n",
    "    qpso = QPSO(benchmarks.Ragstrin(n=d),bounds=np.array([[-5.12,5.12]]*d))\n",
    "    qpso.hypers.update({'N':100, 'G':200})\n",
    "    runs = []\n",
    "    for _ in range(30):\n",
    "        runs.append(rastrigin(qpso())[0])\n",
    "    print(f'''PAO\n",
    "Dim: {d}\n",
    "Mean: {statistics.mean(runs)}\n",
    "Stdev: {statistics.stdev(runs)}\n",
    "Min: {min(runs)}\n",
    "Max: {max(runs)}\n",
    "Mean: {statistics.mean(runs)}\n",
    "''')\n",
    "    data['qpso'][d] = {'dim':d, 'mean':statistics.mean(runs), 'stdev':statistics.stdev(runs),'min':min(runs),'max':max(runs)}"
   ]
  },
  {
   "cell_type": "code",
   "execution_count": 13,
   "metadata": {},
   "outputs": [],
   "source": [
    "import pickle\n",
    "pickle.dump(data,open('pso100200','wb'))"
   ]
  }
 ],
 "metadata": {
  "kernelspec": {
   "display_name": "Python 3",
   "language": "python",
   "name": "python3"
  },
  "language_info": {
   "codemirror_mode": {
    "name": "ipython",
    "version": 3
   },
   "file_extension": ".py",
   "mimetype": "text/x-python",
   "name": "python",
   "nbconvert_exporter": "python",
   "pygments_lexer": "ipython3",
   "version": "3.11.4"
  },
  "orig_nbformat": 4
 },
 "nbformat": 4,
 "nbformat_minor": 2
}
