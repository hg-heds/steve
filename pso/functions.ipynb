{
 "cells": [
  {
   "cell_type": "code",
   "execution_count": 1,
   "metadata": {},
   "outputs": [],
   "source": [
    "import numpy as np\n",
    "from matplotlib import pyplot as plt"
   ]
  },
  {
   "cell_type": "code",
   "execution_count": 2,
   "metadata": {},
   "outputs": [],
   "source": [
    "def schwefel(X):  # minimum 0 at (420.9687,420.9687,...,420.9687)\n",
    "    offset = 0\n",
    "    shape = X.shape\n",
    "    if len(shape)>1:\n",
    "        return 418.9829 * shape[1] - np.sum((X+offset)*np.sin(np.sqrt(np.abs(X+offset))),axis=1)\n",
    "    else: \n",
    "        return 418.9829 * shape[0] - np.sum((X+offset)*np.sin(np.sqrt(np.abs(X+offset))))"
   ]
  },
  {
   "cell_type": "code",
   "execution_count": 3,
   "metadata": {},
   "outputs": [],
   "source": [
    "def dixon_price(X): # minimum 0 at xi = 2**(-(2**i-2)/2**i)\n",
    "    offset = 0\n",
    "    shape = X.shape\n",
    "    if len(shape)>1:\n",
    "        return (X[:,[0]]-1)**2 + np.sum(np.arange(1,shape[1])*(2*(X[:,1:]+offset)**2-X[:,:-1]-offset)**2,axis=1)\n",
    "    else: \n",
    "        return (X[:,[0]]-1)**2 + np.sum(np.arange(1,shape[0])*(2*(X[:,1:]+offset)**2-X[:,:-1]-offset)**2)"
   ]
  },
  {
   "cell_type": "code",
   "execution_count": 34,
   "metadata": {},
   "outputs": [],
   "source": [
    "def levy(X): # minimum 0 at (1,1,...,1)\n",
    "    offset = 0\n",
    "    shape = X.shape\n",
    "    w = 1 + (X+offset-1)/4\n",
    "    if len(shape)>1:\n",
    "        return np.sin(np.pi*w[:,0])**2 + np.sum((w[:,:-1]-1)**2*(1+10*np.sin(np.pi*w[:,:-1]+1)**2)+(w[:,[-1]]-1)**2*(1+np.sin(2*np.pi*w[:,:-1])),axis=1)\n",
    "    else: \n",
    "        return np.sin(np.pi*w[0])**2 + np.sum((w[:-1]-1)**2*(1+10*np.sin(np.pi*w[:-1]+1)**2)+(w[-1]-1)**2*(1+np.sin(2*np.pi*w[:-1])))"
   ]
  }
 ],
 "metadata": {
  "kernelspec": {
   "display_name": "Python 3.10.11 64-bit (microsoft store)",
   "language": "python",
   "name": "python3"
  },
  "language_info": {
   "codemirror_mode": {
    "name": "ipython",
    "version": 3
   },
   "file_extension": ".py",
   "mimetype": "text/x-python",
   "name": "python",
   "nbconvert_exporter": "python",
   "pygments_lexer": "ipython3",
   "version": "3.10.11"
  },
  "orig_nbformat": 4,
  "vscode": {
   "interpreter": {
    "hash": "b1ad5e8ad7d380c83bc85e3e9d9545e0ca7f1df9662bca2fd259e79a6cf84242"
   }
  }
 },
 "nbformat": 4,
 "nbformat_minor": 2
}
