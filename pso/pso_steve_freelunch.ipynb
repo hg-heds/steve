{
 "cells": [
  {
   "cell_type": "code",
   "execution_count": 2,
   "metadata": {},
   "outputs": [],
   "source": [
    "from freelunch import PSO, benchmarks\n",
    "from PSO import PSO\n",
    "from functions import  rastrigin\n",
    "import statistics\n",
    "import numpy as np"
   ]
  },
  {
   "cell_type": "code",
   "execution_count": 3,
   "metadata": {},
   "outputs": [
    {
     "data": {
      "text/plain": [
       "2"
      ]
     },
     "execution_count": 3,
     "metadata": {},
     "output_type": "execute_result"
    }
   ],
   "source": [
    "statistics.mean(np.array([1,2,3]))"
   ]
  },
  {
   "cell_type": "code",
   "execution_count": null,
   "metadata": {},
   "outputs": [],
   "source": [
    "from freelunch import benchmarks, PAO,PSO,QPSO\n",
    "import numpy as np\n",
    "import json\n",
    "import statistics\n",
    "\n",
    "metodos = {\n",
    "            \"QPSO\":QPSO,\n",
    "            \"PSO\":PSO,\n",
    "            \"PAO\":PAO,\n",
    "           }\n",
    "otimos = {\n",
    "            \"QPSO\":[],\n",
    "            \"PSO\":[],\n",
    "            \"PAO\":[],\n",
    "          }\n",
    "rastrigin = benchmarks.Ragstrin(n = 5)\n",
    "for _ in range(30):\n",
    "    for key,metodo in metodos.items():\n",
    "        opt = metodo(obj=rastrigin.obj,bounds=rastrigin.bounds)\n",
    "        result = opt(full_output=True)\n",
    "        with open(f\"{key}.json\",\"w\") as f:\n",
    "            f.write(json.dumps(result,indent=2))\n",
    "\n",
    "        otimo = opt()\n",
    "        print(otimo)\n",
    "        otimos[key].append(otimo)\n",
    "\n",
    "# print(\"\\n\\nOTIMO PAO\",rastrigin.obj(np.array(statistics.mean(otimos[\"PAO\"]))))\n",
    "# print(\"\\nOTIMO PSO\",rastrigin.obj(np.array(statistics.mean(otimos[\"PSO\"]))))\n",
    "# print(\"\\nOTIMO QPSO\",rastrigin.obj(np.array(statistics.mean(otimos[\"QPSO\"]))))\n"
   ]
  },
  {
   "cell_type": "code",
   "execution_count": 8,
   "metadata": {},
   "outputs": [],
   "source": [
    "import json"
   ]
  },
  {
   "cell_type": "code",
   "execution_count": 16,
   "metadata": {},
   "outputs": [],
   "source": [
    "qpso = json.load(open('QPSO.json','rt'))\n",
    "pso = json.load(open('PSO.json','rt'))\n",
    "pao = json.load(open('PAO.json','rt'))"
   ]
  },
  {
   "cell_type": "code",
   "execution_count": 15,
   "metadata": {},
   "outputs": [
    {
     "data": {
      "text/plain": [
       "4.816258573091511"
      ]
     },
     "execution_count": 15,
     "metadata": {},
     "output_type": "execute_result"
    }
   ],
   "source": [
    "statistics.mean(qpso['scores'])"
   ]
  },
  {
   "cell_type": "code",
   "execution_count": 17,
   "metadata": {},
   "outputs": [
    {
     "data": {
      "text/plain": [
       "33.55664017518422"
      ]
     },
     "execution_count": 17,
     "metadata": {},
     "output_type": "execute_result"
    }
   ],
   "source": [
    "statistics.mean(pso['scores'])"
   ]
  },
  {
   "cell_type": "code",
   "execution_count": 18,
   "metadata": {},
   "outputs": [
    {
     "data": {
      "text/plain": [
       "1.8029057782039595"
      ]
     },
     "execution_count": 18,
     "metadata": {},
     "output_type": "execute_result"
    }
   ],
   "source": [
    "statistics.mean(pao['scores'])"
   ]
  },
  {
   "cell_type": "code",
   "execution_count": null,
   "metadata": {},
   "outputs": [],
   "source": []
  }
 ],
 "metadata": {
  "kernelspec": {
   "display_name": "Python 3",
   "language": "python",
   "name": "python3"
  },
  "language_info": {
   "codemirror_mode": {
    "name": "ipython",
    "version": 3
   },
   "file_extension": ".py",
   "mimetype": "text/x-python",
   "name": "python",
   "nbconvert_exporter": "python",
   "pygments_lexer": "ipython3",
   "version": "3.11.4"
  },
  "orig_nbformat": 4
 },
 "nbformat": 4,
 "nbformat_minor": 2
}
