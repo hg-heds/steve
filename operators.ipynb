{
 "cells": [
  {
   "cell_type": "code",
   "execution_count": 1,
   "metadata": {},
   "outputs": [],
   "source": [
    "import numpy as np\n",
    "from matplotlib import pyplot as plt, animation as ani"
   ]
  },
  {
   "cell_type": "code",
   "execution_count": 3,
   "metadata": {},
   "outputs": [
    {
     "data": {
      "text/plain": [
       "(2, 3)"
      ]
     },
     "execution_count": 3,
     "metadata": {},
     "output_type": "execute_result"
    }
   ],
   "source": [
    "a = np.array([[1,2,3],[3,4,5]])\n",
    "a.shape"
   ]
  },
  {
   "cell_type": "code",
   "execution_count": null,
   "metadata": {},
   "outputs": [],
   "source": [
    "def main():\n",
    "    pop_size = 40\n",
    "    pop_dimension = 5\n",
    "    max_generations = 1000\n",
    "    limits = [-100,100]\n",
    "    population = limits[0] + np.random.rand(pop_size,pop_dimension) * (limits[1]-limits[0])"
   ]
  },
  {
   "cell_type": "code",
   "execution_count": 26,
   "metadata": {},
   "outputs": [],
   "source": [
    "def paraboloid(X):\n",
    "    return np.sum(X**2,axis=1)\n",
    "    \n",
    "def rastrigin(X):\n",
    "    dim = X.shape[1]\n",
    "    return 10*dim + np.sum(X**2-10*np.cos(2*np.pi*X),axis=1)"
   ]
  },
  {
   "cell_type": "code",
   "execution_count": null,
   "metadata": {},
   "outputs": [],
   "source": [
    "def mutation(population, mut_type, width=2, offset=0.5):\n",
    "    pop_size, pop_dim = population.shape\n",
    "    r2 = width*np.random.rand(pop_size,pop_dim)-offset\n",
    "    new_population = population + r2\n",
    "    return new_population"
   ]
  },
  {
   "cell_type": "code",
   "execution_count": null,
   "metadata": {},
   "outputs": [],
   "source": [
    "def recombination(population, rec_type='rand_between', width=2, offset=0.5):\n",
    "    pop_size, pop_dim = population.shape\n",
    "    if rec_type == 'mean':\n",
    "        r1 = np.random.randint(0,pop_size,pop_size)\n",
    "        new_population = (population + population[r1])/2\n",
    "    if rec_type == 'rand_between':\n",
    "        rec_type = 'window_offset'\n",
    "        width = 1\n",
    "        offset = 0\n",
    "    if rec_type == 'window_offset':\n",
    "        r1 = np.random.randint(0,pop_size,pop_size)\n",
    "        r2 = width*np.random.rand(pop_size,pop_dim)-offset\n",
    "        new_population = population + r2*(population[r1]-population)\n",
    "    else: \n",
    "        Warning(\"No recombination in execution\")\n",
    "        new_population = population\n",
    "    return new_population"
   ]
  },
  {
   "cell_type": "code",
   "execution_count": null,
   "metadata": {},
   "outputs": [],
   "source": [
    "def selection(objective, pop_size, sel_type):\n",
    "    if sel_type == 'elitism':\n",
    "        index = np.argsort(objective)\n",
    "        index = index[:pop_size]\n",
    "    elif sel_type == 'tournment':\n",
    "        r1 = np.random.randint(0,len(objective),pop_size)\n",
    "        r2 = np.random.randint(0,len(objective),pop_size)\n",
    "        lesser = objective[r1] <= objective[r2]\n",
    "        index = np.concatenate((r1[lesser], r2[lesser.__invert__()]))\n",
    "    elif sel_type == 'roulette':\n",
    "        pass \n",
    "    else: index = selection(objective,pop_size,sel_type='elitism')\n",
    "    return index\n"
   ]
  },
  {
   "cell_type": "code",
   "execution_count": null,
   "metadata": {},
   "outputs": [],
   "source": []
  },
  {
   "cell_type": "code",
   "execution_count": 84,
   "metadata": {},
   "outputs": [],
   "source": [
    "a = np.random.rand(5,5)"
   ]
  },
  {
   "cell_type": "code",
   "execution_count": 85,
   "metadata": {},
   "outputs": [],
   "source": [
    "b = a<0.5"
   ]
  },
  {
   "cell_type": "code",
   "execution_count": 89,
   "metadata": {},
   "outputs": [
    {
     "data": {
      "text/plain": [
       "array([[ True,  True, False,  True, False],\n",
       "       [False,  True, False,  True,  True],\n",
       "       [False, False, False,  True, False],\n",
       "       [ True, False,  True, False,  True],\n",
       "       [False, False, False, False,  True]])"
      ]
     },
     "execution_count": 89,
     "metadata": {},
     "output_type": "execute_result"
    }
   ],
   "source": [
    "b"
   ]
  },
  {
   "cell_type": "code",
   "execution_count": 88,
   "metadata": {},
   "outputs": [
    {
     "data": {
      "text/plain": [
       "array([[False, False,  True, False,  True],\n",
       "       [ True, False,  True, False, False],\n",
       "       [ True,  True,  True, False,  True],\n",
       "       [False,  True, False,  True, False],\n",
       "       [ True,  True,  True,  True, False]])"
      ]
     },
     "execution_count": 88,
     "metadata": {},
     "output_type": "execute_result"
    }
   ],
   "source": [
    "b.__invert__()"
   ]
  },
  {
   "cell_type": "code",
   "execution_count": 44,
   "metadata": {},
   "outputs": [],
   "source": [
    "a = np.random.rand(50,1)"
   ]
  },
  {
   "cell_type": "code",
   "execution_count": 83,
   "metadata": {},
   "outputs": [
    {
     "data": {
      "text/plain": [
       "array([44,  5])"
      ]
     },
     "execution_count": 83,
     "metadata": {},
     "output_type": "execute_result"
    }
   ],
   "source": [
    "r1 = np.random.randint(0,50,2)\n",
    "r1"
   ]
  },
  {
   "cell_type": "code",
   "execution_count": 55,
   "metadata": {},
   "outputs": [],
   "source": [
    "r2 = r1[:10]\n",
    "r3 = r1[10:]"
   ]
  },
  {
   "cell_type": "code",
   "execution_count": 80,
   "metadata": {},
   "outputs": [
    {
     "data": {
      "text/plain": [
       "5"
      ]
     },
     "execution_count": 80,
     "metadata": {},
     "output_type": "execute_result"
    }
   ],
   "source": [
    "len(a)"
   ]
  },
  {
   "cell_type": "code",
   "execution_count": 58,
   "metadata": {},
   "outputs": [
    {
     "data": {
      "text/plain": [
       "array([ 2,  6,  7,  4, 15,  9, 19, 18,  5, 14])"
      ]
     },
     "execution_count": 58,
     "metadata": {},
     "output_type": "execute_result"
    }
   ],
   "source": [
    "r3"
   ]
  },
  {
   "cell_type": "code",
   "execution_count": 59,
   "metadata": {},
   "outputs": [],
   "source": [
    "a = np.random.rand(20,1)"
   ]
  },
  {
   "cell_type": "code",
   "execution_count": 73,
   "metadata": {},
   "outputs": [],
   "source": [
    "r3 = r3[1:]"
   ]
  },
  {
   "cell_type": "code",
   "execution_count": 74,
   "metadata": {},
   "outputs": [
    {
     "ename": "ValueError",
     "evalue": "operands could not be broadcast together with shapes (10,1) (9,1) ",
     "output_type": "error",
     "traceback": [
      "\u001b[1;31m---------------------------------------------------------------------------\u001b[0m",
      "\u001b[1;31mValueError\u001b[0m                                Traceback (most recent call last)",
      "Cell \u001b[1;32mIn [74], line 1\u001b[0m\n\u001b[1;32m----> 1\u001b[0m b \u001b[39m=\u001b[39m a[r2]\u001b[39m>\u001b[39;49m\u001b[39m=\u001b[39;49ma[r3]\n",
      "\u001b[1;31mValueError\u001b[0m: operands could not be broadcast together with shapes (10,1) (9,1) "
     ]
    }
   ],
   "source": [
    "b = a[r2]>=a[r3]"
   ]
  },
  {
   "cell_type": "code",
   "execution_count": 62,
   "metadata": {},
   "outputs": [
    {
     "data": {
      "text/plain": [
       "array([[ True],\n",
       "       [False],\n",
       "       [False],\n",
       "       [ True],\n",
       "       [ True],\n",
       "       [False],\n",
       "       [ True],\n",
       "       [ True],\n",
       "       [ True],\n",
       "       [ True]])"
      ]
     },
     "execution_count": 62,
     "metadata": {},
     "output_type": "execute_result"
    }
   ],
   "source": [
    "b"
   ]
  },
  {
   "cell_type": "code",
   "execution_count": 68,
   "metadata": {},
   "outputs": [],
   "source": [
    "R = np.concatenate((r2[b.flatten()], r3[b.flatten() == False]))"
   ]
  },
  {
   "cell_type": "code",
   "execution_count": 70,
   "metadata": {},
   "outputs": [
    {
     "data": {
      "text/plain": [
       "array([[0.2453841 ],\n",
       "       [0.20404407],\n",
       "       [0.9753992 ],\n",
       "       [0.62842512],\n",
       "       [0.6808933 ],\n",
       "       [0.94953492],\n",
       "       [0.96878176],\n",
       "       [0.3006371 ],\n",
       "       [0.72335942],\n",
       "       [0.96536625]])"
      ]
     },
     "execution_count": 70,
     "metadata": {},
     "output_type": "execute_result"
    }
   ],
   "source": [
    "a[R]"
   ]
  },
  {
   "cell_type": "code",
   "execution_count": 71,
   "metadata": {},
   "outputs": [
    {
     "data": {
      "text/plain": [
       "array([[0.94953492],\n",
       "       [0.20404407],\n",
       "       [0.07807974],\n",
       "       [0.62842512],\n",
       "       [0.11267865],\n",
       "       [0.10569176],\n",
       "       [0.3006371 ],\n",
       "       [0.72335942],\n",
       "       [0.6808933 ],\n",
       "       [0.96536625],\n",
       "       [0.17891027],\n",
       "       [0.39043151],\n",
       "       [0.9753992 ],\n",
       "       [0.2453841 ],\n",
       "       [0.40788544],\n",
       "       [0.72859856],\n",
       "       [0.09294021],\n",
       "       [0.96878176],\n",
       "       [0.4465635 ],\n",
       "       [0.59793365]])"
      ]
     },
     "execution_count": 71,
     "metadata": {},
     "output_type": "execute_result"
    }
   ],
   "source": [
    "a"
   ]
  },
  {
   "cell_type": "code",
   "execution_count": null,
   "metadata": {},
   "outputs": [],
   "source": []
  }
 ],
 "metadata": {
  "kernelspec": {
   "display_name": "Python 3.10.11 64-bit (microsoft store)",
   "language": "python",
   "name": "python3"
  },
  "language_info": {
   "codemirror_mode": {
    "name": "ipython",
    "version": 3
   },
   "file_extension": ".py",
   "mimetype": "text/x-python",
   "name": "python",
   "nbconvert_exporter": "python",
   "pygments_lexer": "ipython3",
   "version": "3.10.11"
  },
  "orig_nbformat": 4,
  "vscode": {
   "interpreter": {
    "hash": "b1ad5e8ad7d380c83bc85e3e9d9545e0ca7f1df9662bca2fd259e79a6cf84242"
   }
  }
 },
 "nbformat": 4,
 "nbformat_minor": 2
}
