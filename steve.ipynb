{
 "cells": [
  {
   "cell_type": "code",
   "execution_count": 85,
   "metadata": {},
   "outputs": [],
   "source": [
    "import numpy as np"
   ]
  },
  {
   "cell_type": "code",
   "execution_count": 86,
   "metadata": {},
   "outputs": [],
   "source": [
    "def rastrigin(X):\n",
    "    shape = X.shape\n",
    "    if len(shape)>1:\n",
    "        return 10*shape[1] + np.sum((X+1)**2-10*np.cos(2*np.pi*(X+1)),axis=1)\n",
    "    else: return 10 + np.sum(X**2-10*np.cos(2*np.pi*X))"
   ]
  },
  {
   "cell_type": "code",
   "execution_count": 87,
   "metadata": {},
   "outputs": [],
   "source": [
    "dim = 3\n",
    "pop_size = 5\n",
    "population = np.random.rand(pop_size,dim)\n",
    "i = 2"
   ]
  },
  {
   "cell_type": "code",
   "execution_count": null,
   "metadata": {},
   "outputs": [],
   "source": []
  },
  {
   "cell_type": "code",
   "execution_count": 151,
   "metadata": {},
   "outputs": [],
   "source": [
    "for i in range(pop_size):\n",
    "    C = np.random.rand(pop_size,1)+0.5\n",
    "    locked = np.random.randint(dim)\n",
    "    r1,r2,r3 = np.random.permutation(pop_size)[:3]\n",
    "    child = population[r1] + C*(population[r3]-population[r2])\n",
    "    rand = np.random.rand(dim)<0.5\n",
    "    rand[locked] = False\n",
    "    child[rand] = population[i][rand]\n",
    "    if rastrigin(child) <= rastrigin(population[i]):\n",
    "        population[i] = child"
   ]
  },
  {
   "cell_type": "code",
   "execution_count": 155,
   "metadata": {},
   "outputs": [
    {
     "data": {
      "text/plain": [
       "array([[ 0.01310551,  0.98038112,  0.00783313],\n",
       "       [ 0.0018265 ,  0.98236845, -0.00688175],\n",
       "       [ 0.00995524,  0.99169219, -0.01907023],\n",
       "       [ 0.01159163,  0.99720051,  0.01594558],\n",
       "       [ 0.01950693,  1.01039238, -0.03712353]])"
      ]
     },
     "execution_count": 155,
     "metadata": {},
     "output_type": "execute_result"
    }
   ],
   "source": [
    "population * np.ones((5,1))"
   ]
  },
  {
   "cell_type": "code",
   "execution_count": 164,
   "metadata": {},
   "outputs": [
    {
     "data": {
      "text/plain": [
       "array([[2],\n",
       "       [2],\n",
       "       [1]])"
      ]
     },
     "execution_count": 164,
     "metadata": {},
     "output_type": "execute_result"
    }
   ],
   "source": [
    "np.random.randint(0,dim,(3,1))"
   ]
  },
  {
   "cell_type": "code",
   "execution_count": null,
   "metadata": {},
   "outputs": [],
   "source": []
  }
 ],
 "metadata": {
  "kernelspec": {
   "display_name": "Python 3 (ipykernel)",
   "language": "python",
   "name": "python3"
  },
  "language_info": {
   "codemirror_mode": {
    "name": "ipython",
    "version": 3
   },
   "file_extension": ".py",
   "mimetype": "text/x-python",
   "name": "python",
   "nbconvert_exporter": "python",
   "pygments_lexer": "ipython3",
   "version": "3.10.11"
  },
  "orig_nbformat": 4,
  "vscode": {
   "interpreter": {
    "hash": "b1ad5e8ad7d380c83bc85e3e9d9545e0ca7f1df9662bca2fd259e79a6cf84242"
   }
  }
 },
 "nbformat": 4,
 "nbformat_minor": 2
}
