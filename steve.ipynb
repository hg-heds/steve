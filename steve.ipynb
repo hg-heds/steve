{
 "cells": [
  {
   "cell_type": "code",
   "execution_count": 52,
   "metadata": {},
   "outputs": [],
   "source": [
    "import numpy as np\n",
    "from matplotlib import pyplot as plt, animation as ani"
   ]
  },
  {
   "cell_type": "code",
   "execution_count": 53,
   "metadata": {},
   "outputs": [],
   "source": [
    "pop_size = 100\n",
    "pop_dimension = 1\n",
    "max_generations = 100\n",
    "limits = [-100,100]\n",
    "population = limits[0] + np.random.rand(pop_size,pop_dimension) * (limits[1]-limits[0])"
   ]
  },
  {
   "cell_type": "code",
   "execution_count": 54,
   "metadata": {},
   "outputs": [],
   "source": [
    "def F(X):\n",
    "    return np.sum(X**2,axis=1)\n",
    "\n",
    "def rec_mean(a,b):\n",
    "    return (a + b)/2\n",
    "\n",
    "recombination_types = {\n",
    "    \"mean\":rec_mean\n",
    "}"
   ]
  },
  {
   "cell_type": "code",
   "execution_count": 55,
   "metadata": {},
   "outputs": [],
   "source": [
    "def recombination(rec_type = 'mean'):\n",
    "    rec = recombination_types[rec_type]\n",
    "    new_population = np.zeros([pop_size,pop_dimension])\n",
    "    for i in range(pop_size):\n",
    "        r = np.random.randint(0,pop_size)\n",
    "        new_population[i,:] = rec(population[i,:], population[r,:])\n",
    "    return new_population\n",
    "\n",
    "def selection(new_population):\n",
    "    global population\n",
    "    temp_pop = np.concatenate((population, new_population), axis=0)\n",
    "    objective = F(temp_pop)\n",
    "    index = np.argsort(objective)\n",
    "    temp_pop = temp_pop[index]\n",
    "    population = temp_pop[:pop_size,:]"
   ]
  },
  {
   "cell_type": "code",
   "execution_count": 56,
   "metadata": {},
   "outputs": [],
   "source": [
    "selection(recombination(\"mean\"))"
   ]
  },
  {
   "cell_type": "code",
   "execution_count": 59,
   "metadata": {},
   "outputs": [],
   "source": [
    "from time import sleep"
   ]
  },
  {
   "cell_type": "code",
   "execution_count": null,
   "metadata": {},
   "outputs": [],
   "source": [
    "fig = plt.figure()\n",
    "ax = fig.add_subplot(1,1,1)\n",
    "ax.plot([1,2,3,4],[5,6,5,6])\n",
    "plt.show()\n",
    "sleep(1)\n",
    "ax.plot([1,2,3,5],[5,6,5,6])\n",
    "plt.show()"
   ]
  },
  {
   "cell_type": "code",
   "execution_count": null,
   "metadata": {},
   "outputs": [],
   "source": []
  }
 ],
 "metadata": {
  "kernelspec": {
   "display_name": "Python 3.10.10 64-bit (microsoft store)",
   "language": "python",
   "name": "python3"
  },
  "language_info": {
   "codemirror_mode": {
    "name": "ipython",
    "version": 3
   },
   "file_extension": ".py",
   "mimetype": "text/x-python",
   "name": "python",
   "nbconvert_exporter": "python",
   "pygments_lexer": "ipython3",
   "version": "3.10.10"
  },
  "orig_nbformat": 4,
  "vscode": {
   "interpreter": {
    "hash": "b1ad5e8ad7d380c83bc85e3e9d9545e0ca7f1df9662bca2fd259e79a6cf84242"
   }
  }
 },
 "nbformat": 4,
 "nbformat_minor": 2
}
