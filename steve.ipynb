{
 "cells": [
  {
   "cell_type": "code",
   "execution_count": 1,
   "metadata": {},
   "outputs": [],
   "source": [
    "import numpy as np"
   ]
  },
  {
   "cell_type": "code",
   "execution_count": 2,
   "metadata": {},
   "outputs": [],
   "source": [
    "def rastrigin(X):\n",
    "    shape = X.shape\n",
    "    if len(shape)>1:\n",
    "        return 10*shape[1] + np.sum((X+1)**2-10*np.cos(2*np.pi*(X+1)),axis=1)\n",
    "    else: return 10 + np.sum(X**2-10*np.cos(2*np.pi*X))"
   ]
  },
  {
   "cell_type": "code",
   "execution_count": 3,
   "metadata": {},
   "outputs": [],
   "source": [
    "dim = 3\n",
    "pop_size = 5\n",
    "population = np.random.rand(pop_size,dim)\n",
    "i = 2"
   ]
  },
  {
   "cell_type": "code",
   "execution_count": null,
   "metadata": {},
   "outputs": [],
   "source": []
  },
  {
   "cell_type": "code",
   "execution_count": 4,
   "metadata": {},
   "outputs": [
    {
     "ename": "IndexError",
     "evalue": "boolean index did not match indexed array along dimension 0; dimension is 5 but corresponding boolean dimension is 3",
     "output_type": "error",
     "traceback": [
      "\u001b[1;31m---------------------------------------------------------------------------\u001b[0m",
      "\u001b[1;31mIndexError\u001b[0m                                Traceback (most recent call last)",
      "Cell \u001b[1;32mIn[4], line 8\u001b[0m\n\u001b[0;32m      6\u001b[0m rand \u001b[39m=\u001b[39m np\u001b[39m.\u001b[39mrandom\u001b[39m.\u001b[39mrand(dim)\u001b[39m<\u001b[39m\u001b[39m0.5\u001b[39m\n\u001b[0;32m      7\u001b[0m rand[locked] \u001b[39m=\u001b[39m \u001b[39mFalse\u001b[39;00m\n\u001b[1;32m----> 8\u001b[0m child[rand] \u001b[39m=\u001b[39m population[i][rand]\n\u001b[0;32m      9\u001b[0m \u001b[39mif\u001b[39;00m rastrigin(child) \u001b[39m<\u001b[39m\u001b[39m=\u001b[39m rastrigin(population[i]):\n\u001b[0;32m     10\u001b[0m     population[i] \u001b[39m=\u001b[39m child\n",
      "\u001b[1;31mIndexError\u001b[0m: boolean index did not match indexed array along dimension 0; dimension is 5 but corresponding boolean dimension is 3"
     ]
    }
   ],
   "source": [
    "for i in range(pop_size):\n",
    "    C = np.random.rand(pop_size,1)+0.5\n",
    "    locked = np.random.randint(dim)\n",
    "    r1,r2,r3 = np.random.permutation(pop_size)[:3]\n",
    "    child = population[r1] + C*(population[r3]-population[r2])\n",
    "    rand = np.random.rand(dim)<0.5\n",
    "    rand[locked] = False\n",
    "    child[rand] = population[i][rand]\n",
    "    if rastrigin(child) <= rastrigin(population[i]):\n",
    "        population[i] = child"
   ]
  },
  {
   "cell_type": "code",
   "execution_count": 22,
   "metadata": {},
   "outputs": [],
   "source": [
    "population = np.random.rand(9,5)"
   ]
  },
  {
   "cell_type": "code",
   "execution_count": 23,
   "metadata": {},
   "outputs": [
    {
     "data": {
      "text/plain": [
       "array([0.41512383, 0.74447701, 0.47950388, 0.43115136, 0.43287282])"
      ]
     },
     "execution_count": 23,
     "metadata": {},
     "output_type": "execute_result"
    }
   ],
   "source": [
    "np.mean(population,axis=0)"
   ]
  },
  {
   "cell_type": "code",
   "execution_count": 24,
   "metadata": {},
   "outputs": [
    {
     "data": {
      "text/plain": [
       "array([[0.0367378 , 0.74500044, 0.47297676, 0.0176741 , 0.44879946],\n",
       "       [0.05618668, 0.8998495 , 0.0954391 , 0.13523493, 0.17795463],\n",
       "       [0.72551119, 0.40751685, 0.6004543 , 0.27188798, 0.1706663 ],\n",
       "       [0.07124549, 0.35187839, 0.30943193, 0.94172835, 0.34596961],\n",
       "       [0.82541542, 0.96120882, 0.51560101, 0.07963031, 0.25277047],\n",
       "       [0.64704287, 0.77483436, 0.42180351, 0.08629112, 0.53629756],\n",
       "       [0.6924065 , 0.64936958, 0.89624698, 0.75068546, 0.93457339],\n",
       "       [0.6501479 , 0.99689347, 0.52570956, 0.92415338, 0.97574092],\n",
       "       [0.03142064, 0.91374171, 0.47787177, 0.67307665, 0.053083  ]])"
      ]
     },
     "execution_count": 24,
     "metadata": {},
     "output_type": "execute_result"
    }
   ],
   "source": [
    "population"
   ]
  },
  {
   "cell_type": "code",
   "execution_count": 10,
   "metadata": {},
   "outputs": [
    {
     "data": {
      "text/plain": [
       "0.7271992700000001"
      ]
     },
     "execution_count": 10,
     "metadata": {},
     "output_type": "execute_result"
    }
   ],
   "source": [
    "(0.78575082+0.88944819+0.35731092+0.82868558+0.77480084)/5"
   ]
  },
  {
   "cell_type": "code",
   "execution_count": 34,
   "metadata": {},
   "outputs": [
    {
     "data": {
      "text/plain": [
       "array([[0.05399165, 0.54843942, 0.39120435, 0.47970123, 0.39738454],\n",
       "       [0.35316729, 0.94837148, 0.31057433, 0.52969416, 0.57684778],\n",
       "       [0.39837834, 0.37969762, 0.45494312, 0.60680817, 0.25831796],\n",
       "       [0.39837834, 0.37969762, 0.45494312, 0.60680817, 0.25831796],\n",
       "       [0.73778166, 0.97905114, 0.52065528, 0.50189184, 0.61425569],\n",
       "       [0.35161478, 0.83734193, 0.25862131, 0.11076303, 0.3571261 ],\n",
       "       [0.70895884, 0.52844321, 0.74835064, 0.51128672, 0.55261985],\n",
       "       [0.64859539, 0.88586391, 0.47375654, 0.50522225, 0.75601924],\n",
       "       [0.04380366, 0.9067956 , 0.28665544, 0.40415579, 0.11551882]])"
      ]
     },
     "execution_count": 34,
     "metadata": {},
     "output_type": "execute_result"
    }
   ],
   "source": [
    "(population[np.random.randint(0,9,9)] + population)/2"
   ]
  },
  {
   "cell_type": "code",
   "execution_count": 37,
   "metadata": {},
   "outputs": [
    {
     "data": {
      "text/plain": [
       "array([[-0.10503588,  0.29704373, -0.02876543,  0.98041519,  0.41782855],\n",
       "       [ 0.50450179,  0.24593872,  0.87820498, -0.20264211,  0.66512763],\n",
       "       [ 0.94959674,  0.57073692, -0.17359714, -0.08996128,  0.41611145],\n",
       "       [ 0.3190873 , -0.05972157,  1.33107107,  0.74924367,  0.1794003 ],\n",
       "       [-0.28582206,  0.37151676,  0.46219704,  1.27288236,  0.61980983],\n",
       "       [ 0.00537766,  1.07054439,  0.95167745,  0.60846349,  0.30926508],\n",
       "       [-0.48695588, -0.13568391,  1.01169267,  1.33142467,  0.69023809],\n",
       "       [ 1.16310529,  1.33998764, -0.4700815 ,  1.05696211,  0.62053947],\n",
       "       [ 0.08854106,  0.44584805, -0.3520469 ,  1.18429745, -0.07731344],\n",
       "       [-0.07489884,  0.88103778,  1.18418033,  0.16061071,  1.28477709]])"
      ]
     },
     "execution_count": 37,
     "metadata": {},
     "output_type": "execute_result"
    }
   ],
   "source": [
    "np.random.rand(10,5)*2-0.5 * (population-)"
   ]
  },
  {
   "cell_type": "code",
   "execution_count": 40,
   "metadata": {},
   "outputs": [
    {
     "data": {
      "text/plain": [
       "array([[0.0367378 , 0.74500044, 0.47297676, 0.0176741 , 0.44879946],\n",
       "       [0.05618668, 0.8998495 , 0.0954391 , 0.13523493, 0.17795463],\n",
       "       [0.72551119, 0.40751685, 0.6004543 , 0.27188798, 0.1706663 ],\n",
       "       [0.07124549, 0.35187839, 0.30943193, 0.94172835, 0.34596961],\n",
       "       [0.82541542, 0.96120882, 0.51560101, 0.07963031, 0.25277047],\n",
       "       [0.64704287, 0.77483436, 0.42180351, 0.08629112, 0.53629756],\n",
       "       [0.6924065 , 0.64936958, 0.89624698, 0.75068546, 0.93457339],\n",
       "       [0.6501479 , 0.99689347, 0.52570956, 0.92415338, 0.97574092],\n",
       "       [0.03142064, 0.91374171, 0.47787177, 0.67307665, 0.053083  ]])"
      ]
     },
     "execution_count": 40,
     "metadata": {},
     "output_type": "execute_result"
    }
   ],
   "source": [
    "population"
   ]
  },
  {
   "cell_type": "code",
   "execution_count": 39,
   "metadata": {},
   "outputs": [
    {
     "data": {
      "text/plain": [
       "array([0.74500044, 0.8998495 , 0.40751685, 0.35187839, 0.96120882,\n",
       "       0.77483436, 0.64936958, 0.99689347, 0.91374171])"
      ]
     },
     "execution_count": 39,
     "metadata": {},
     "output_type": "execute_result"
    }
   ],
   "source": [
    "population[:,1]"
   ]
  },
  {
   "cell_type": "code",
   "execution_count": 42,
   "metadata": {},
   "outputs": [
    {
     "data": {
      "text/plain": [
       "array([[6, 7, 8, 9, 8],\n",
       "       [1, 2, 3, 4, 5]])"
      ]
     },
     "execution_count": 42,
     "metadata": {},
     "output_type": "execute_result"
    }
   ],
   "source": [
    "np.random.permutation([[1,2,3,4,5],[6,7,8,9,8]])"
   ]
  },
  {
   "cell_type": "code",
   "execution_count": 68,
   "metadata": {},
   "outputs": [
    {
     "data": {
      "text/plain": [
       "array([9, 7, 2, 7, 4, 4, 1, 9, 3, 8])"
      ]
     },
     "execution_count": 68,
     "metadata": {},
     "output_type": "execute_result"
    }
   ],
   "source": [
    "np.random.randint(0,10,10)"
   ]
  },
  {
   "cell_type": "code",
   "execution_count": 69,
   "metadata": {},
   "outputs": [
    {
     "data": {
      "text/plain": [
       "array([0.38861907, 0.90785935])"
      ]
     },
     "execution_count": 69,
     "metadata": {},
     "output_type": "execute_result"
    }
   ],
   "source": [
    "np.random.rand(2)"
   ]
  },
  {
   "cell_type": "code",
   "execution_count": 12,
   "metadata": {},
   "outputs": [
    {
     "data": {
      "text/plain": [
       "array([[0.46600891, 0.55271797, 0.53346319, 0.53731927, 0.47946438],\n",
       "       [0.49490744, 0.48987445, 0.53524697, 0.35934825, 0.57568239],\n",
       "       [0.59127985, 0.5434972 , 0.56820022, 0.54198843, 0.52758775],\n",
       "       [0.47166415, 0.48084484, 0.34273839, 0.52060126, 0.39925408],\n",
       "       [0.33237635, 0.50778321, 0.31735483, 0.4032507 , 0.37634854],\n",
       "       [0.45441717, 0.33043517, 0.57319339, 0.39493058, 0.58404817],\n",
       "       [0.62762071, 0.45226337, 0.61311817, 0.34869557, 0.47400219],\n",
       "       [0.5003567 , 0.46304637, 0.43073093, 0.18143872, 0.27018989],\n",
       "       [0.47167173, 0.30580483, 0.56709449, 0.42342309, 0.42726474],\n",
       "       [0.57210432, 0.61013401, 0.61761135, 0.57175888, 0.57703676],\n",
       "       [0.5057867 , 0.4465151 , 0.47570921, 0.5212802 , 0.35462232],\n",
       "       [0.56702827, 0.59797889, 0.67471704, 0.70864661, 0.76330118],\n",
       "       [0.3281264 , 0.62993276, 0.4177813 , 0.31709863, 0.47579029],\n",
       "       [0.73279019, 0.41482007, 0.34866397, 0.46469905, 0.70121294],\n",
       "       [0.47302656, 0.53905025, 0.40387101, 0.55821653, 0.46685467],\n",
       "       [0.53526741, 0.35383502, 0.53769691, 0.61473741, 0.54488765],\n",
       "       [0.53408419, 0.54888096, 0.34831207, 0.51391997, 0.48760707],\n",
       "       [0.50081001, 0.28208575, 0.61428482, 0.38935755, 0.67147631],\n",
       "       [0.40879811, 0.66204662, 0.66261928, 0.59717488, 0.50699401],\n",
       "       [0.42358731, 0.55200059, 0.50041906, 0.48110347, 0.27865524]])"
      ]
     },
     "execution_count": 12,
     "metadata": {},
     "output_type": "execute_result"
    }
   ],
   "source": [
    "np.random.normal(0.5,0.1,(20,5))"
   ]
  },
  {
   "cell_type": "code",
   "execution_count": 16,
   "metadata": {},
   "outputs": [
    {
     "data": {
      "text/plain": [
       "array([ -0.23101201,   0.63454305,   0.39484216,   1.39232763,\n",
       "       -10.9983117 ,  -8.42653029,  10.23269293,  -0.64578699,\n",
       "         0.26543347,   1.57819201])"
      ]
     },
     "execution_count": 16,
     "metadata": {},
     "output_type": "execute_result"
    }
   ],
   "source": [
    "np.random.standard_cauchy(10)"
   ]
  },
  {
   "cell_type": "code",
   "execution_count": 17,
   "metadata": {},
   "outputs": [],
   "source": [
    "from scipy.stats import cauchy"
   ]
  },
  {
   "cell_type": "code",
   "execution_count": 28,
   "metadata": {},
   "outputs": [
    {
     "data": {
      "text/plain": [
       "0.2443691355342909"
      ]
     },
     "execution_count": 28,
     "metadata": {},
     "output_type": "execute_result"
    }
   ],
   "source": [
    "cauchy.rvs(loc=0.5,scale=0.1)"
   ]
  },
  {
   "cell_type": "code",
   "execution_count": 36,
   "metadata": {},
   "outputs": [
    {
     "data": {
      "text/plain": [
       "0.31595413243294684"
      ]
     },
     "execution_count": 36,
     "metadata": {},
     "output_type": "execute_result"
    }
   ],
   "source": [
    "max(min(cauchy.rvs(loc=0.5,scale=0.1),1),0)"
   ]
  },
  {
   "cell_type": "code",
   "execution_count": 37,
   "metadata": {},
   "outputs": [],
   "source": [
    "import statistics as stats"
   ]
  },
  {
   "cell_type": "code",
   "execution_count": 40,
   "metadata": {},
   "outputs": [
    {
     "data": {
      "text/plain": [
       "array([9])"
      ]
     },
     "execution_count": 40,
     "metadata": {},
     "output_type": "execute_result"
    }
   ],
   "source": [
    "np.random.permutation(10)[:1]"
   ]
  },
  {
   "cell_type": "code",
   "execution_count": 41,
   "metadata": {},
   "outputs": [],
   "source": [
    "from scipy.stats import cauchy"
   ]
  },
  {
   "cell_type": "code",
   "execution_count": 47,
   "metadata": {},
   "outputs": [
    {
     "data": {
      "text/plain": [
       "array([[ 0.8576084 ,  0.62175965,  0.48819047,  0.70195245,  0.88214211],\n",
       "       [ 0.50849727,  0.48802045,  0.48923734,  1.67808188, -0.26073161],\n",
       "       [ 0.94371449,  0.47051365,  0.45797026,  1.37946379,  0.82872758],\n",
       "       [-9.38502072,  0.40521922,  0.6098599 ,  0.39893282,  0.52356793],\n",
       "       [-0.9187991 ,  0.37765045,  0.569767  ,  0.50522585, -0.08036803],\n",
       "       [ 0.47848477, -0.39928616,  0.37782756,  0.52175081,  0.5614777 ],\n",
       "       [ 0.49571638,  0.46431295,  0.4627128 ,  0.46732069,  0.63350903],\n",
       "       [ 8.24579475,  0.36928822,  0.38581423,  0.50092656,  0.1866291 ],\n",
       "       [ 1.13075945,  0.58178071,  0.80638203,  0.56044282,  0.44451084],\n",
       "       [ 0.6658003 ,  1.98038117,  0.6824504 ,  0.4640134 ,  0.73650487]])"
      ]
     },
     "execution_count": 47,
     "metadata": {},
     "output_type": "execute_result"
    }
   ],
   "source": [
    "cauchy.rvs(loc=0.5,scale=0.1,size=(10,5))"
   ]
  },
  {
   "cell_type": "code",
   "execution_count": 49,
   "metadata": {},
   "outputs": [],
   "source": [
    "a = [(1,2,3),(1,2,3),(1,2,3),(1,2,3),(1,2,3)]"
   ]
  },
  {
   "cell_type": "code",
   "execution_count": 51,
   "metadata": {},
   "outputs": [],
   "source": [
    "scr = np.array(a)[:,0]"
   ]
  },
  {
   "cell_type": "code",
   "execution_count": 58,
   "metadata": {},
   "outputs": [],
   "source": [
    "dd = np.array(a)[:,1]*5"
   ]
  },
  {
   "cell_type": "code",
   "execution_count": 52,
   "metadata": {},
   "outputs": [
    {
     "data": {
      "text/plain": [
       "array([1, 1, 1, 1, 1])"
      ]
     },
     "execution_count": 52,
     "metadata": {},
     "output_type": "execute_result"
    }
   ],
   "source": [
    "scr"
   ]
  },
  {
   "cell_type": "code",
   "execution_count": 59,
   "metadata": {},
   "outputs": [
    {
     "data": {
      "text/plain": [
       "10.0"
      ]
     },
     "execution_count": 59,
     "metadata": {},
     "output_type": "execute_result"
    }
   ],
   "source": [
    "np.sum(scr/np.sum(scr)*dd)"
   ]
  },
  {
   "cell_type": "code",
   "execution_count": 56,
   "metadata": {},
   "outputs": [
    {
     "data": {
      "text/plain": [
       "array([0.2, 0.2, 0.2, 0.2, 0.2])"
      ]
     },
     "execution_count": 56,
     "metadata": {},
     "output_type": "execute_result"
    }
   ],
   "source": [
    "scr/np.sum(scr)"
   ]
  },
  {
   "cell_type": "code",
   "execution_count": 57,
   "metadata": {},
   "outputs": [
    {
     "data": {
      "text/plain": [
       "array([2, 2, 2, 2, 2])"
      ]
     },
     "execution_count": 57,
     "metadata": {},
     "output_type": "execute_result"
    }
   ],
   "source": [
    "dd"
   ]
  },
  {
   "cell_type": "code",
   "execution_count": 63,
   "metadata": {},
   "outputs": [
    {
     "ename": "TypeError",
     "evalue": "descriptor 'permutation' for 'numpy.random._generator.Generator' objects doesn't apply to a 'list' object",
     "output_type": "error",
     "traceback": [
      "\u001b[1;31m---------------------------------------------------------------------------\u001b[0m",
      "\u001b[1;31mTypeError\u001b[0m                                 Traceback (most recent call last)",
      "Cell \u001b[1;32mIn[63], line 1\u001b[0m\n\u001b[1;32m----> 1\u001b[0m np\u001b[39m.\u001b[39;49mrandom\u001b[39m.\u001b[39;49mGenerator\u001b[39m.\u001b[39;49mpermutation([\u001b[39m2\u001b[39;49m,\u001b[39m3\u001b[39;49m,\u001b[39m4\u001b[39;49m], axis\u001b[39m=\u001b[39;49m\u001b[39m0\u001b[39;49m)\n",
      "\u001b[1;31mTypeError\u001b[0m: descriptor 'permutation' for 'numpy.random._generator.Generator' objects doesn't apply to a 'list' object"
     ]
    }
   ],
   "source": [
    "np.random.Generator.permutation(, axis=0)"
   ]
  },
  {
   "cell_type": "code",
   "execution_count": 64,
   "metadata": {},
   "outputs": [
    {
     "data": {
      "text/plain": [
       "array([6, 3, 4, 1, 2, 9, 5, 8, 0, 7])"
      ]
     },
     "execution_count": 64,
     "metadata": {},
     "output_type": "execute_result"
    }
   ],
   "source": [
    "rng = np.random.default_rng()\n",
    "rng.permutation(10)"
   ]
  },
  {
   "cell_type": "code",
   "execution_count": 73,
   "metadata": {},
   "outputs": [
    {
     "data": {
      "text/plain": [
       "array([7, 5, 6, 1, 0, 2, 9, 4, 8, 3])"
      ]
     },
     "execution_count": 73,
     "metadata": {},
     "output_type": "execute_result"
    }
   ],
   "source": [
    "rng.permutation(10,2)"
   ]
  },
  {
   "cell_type": "code",
   "execution_count": 109,
   "metadata": {},
   "outputs": [
    {
     "data": {
      "text/plain": [
       "array([[1, 1, 2, 4, 3, 0, 1, 3, 4, 1]])"
      ]
     },
     "execution_count": 109,
     "metadata": {},
     "output_type": "execute_result"
    }
   ],
   "source": [
    "b = np.random.randint(0,5,(1,10))\n",
    "b"
   ]
  },
  {
   "cell_type": "code",
   "execution_count": 128,
   "metadata": {},
   "outputs": [
    {
     "data": {
      "text/plain": [
       "array([[ True, False,  True,  True,  True],\n",
       "       [ True, False,  True,  True,  True],\n",
       "       [ True,  True, False,  True,  True],\n",
       "       [ True,  True,  True,  True, False],\n",
       "       [ True,  True,  True, False,  True],\n",
       "       [False,  True,  True,  True,  True],\n",
       "       [ True, False,  True,  True,  True],\n",
       "       [ True,  True,  True, False,  True],\n",
       "       [ True,  True,  True,  True, False],\n",
       "       [ True, False,  True,  True,  True]])"
      ]
     },
     "execution_count": 128,
     "metadata": {},
     "output_type": "execute_result"
    }
   ],
   "source": [
    "a = np.ones((10,5)) == 1\n",
    "a[np.arange(10),b] = False\n",
    "a"
   ]
  },
  {
   "cell_type": "code",
   "execution_count": 115,
   "metadata": {},
   "outputs": [
    {
     "data": {
      "text/plain": [
       "array([[0.59284559, 0.65432778, 0.39566125],\n",
       "       [0.07058207, 0.55991727, 0.01231046],\n",
       "       [0.73020344, 0.96329901, 0.36831344],\n",
       "       [0.13946909, 0.17582876, 0.16653524],\n",
       "       [0.69215302, 0.44457617, 0.52654126]])"
      ]
     },
     "execution_count": 115,
     "metadata": {},
     "output_type": "execute_result"
    }
   ],
   "source": [
    "c = np.random.rand(5,3)\n",
    "c"
   ]
  },
  {
   "cell_type": "code",
   "execution_count": 126,
   "metadata": {},
   "outputs": [],
   "source": [
    "c[np.arange(5),np.array([1,1,2,2,0])]=0"
   ]
  },
  {
   "cell_type": "code",
   "execution_count": 132,
   "metadata": {},
   "outputs": [
    {
     "data": {
      "text/plain": [
       "array([[False,  True,  True],\n",
       "       [ True,  True,  True],\n",
       "       [False, False,  True],\n",
       "       [ True,  True,  True],\n",
       "       [ True,  True, False]])"
      ]
     },
     "execution_count": 132,
     "metadata": {},
     "output_type": "execute_result"
    }
   ],
   "source": [
    "c<np.array([[0.5] for _ in range(5)])"
   ]
  },
  {
   "cell_type": "code",
   "execution_count": null,
   "metadata": {},
   "outputs": [],
   "source": [
    "np.random.rand()"
   ]
  }
 ],
 "metadata": {
  "kernelspec": {
   "display_name": "Python 3 (ipykernel)",
   "language": "python",
   "name": "python3"
  },
  "language_info": {
   "codemirror_mode": {
    "name": "ipython",
    "version": 3
   },
   "file_extension": ".py",
   "mimetype": "text/x-python",
   "name": "python",
   "nbconvert_exporter": "python",
   "pygments_lexer": "ipython3",
   "version": "3.11.3"
  },
  "orig_nbformat": 4,
  "vscode": {
   "interpreter": {
    "hash": "b1ad5e8ad7d380c83bc85e3e9d9545e0ca7f1df9662bca2fd259e79a6cf84242"
   }
  }
 },
 "nbformat": 4,
 "nbformat_minor": 2
}
