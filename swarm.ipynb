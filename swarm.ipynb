{
 "cells": [
  {
   "cell_type": "code",
   "execution_count": 1,
   "metadata": {},
   "outputs": [],
   "source": [
    "import numpy as np"
   ]
  },
  {
   "cell_type": "code",
   "execution_count": 3,
   "metadata": {},
   "outputs": [],
   "source": [
    "def rastrigin(X):\n",
    "    offset = -1\n",
    "    shape = X.shape\n",
    "    if len(shape)>1:\n",
    "        return 10*shape[1] + np.sum((X+offset)**2-10*np.cos(2*np.pi*(X+offset)),axis=1)\n",
    "    else: return 10*shape[0] + np.sum((X+offset)**2-10*np.cos(2*np.pi*(X+offset)))"
   ]
  },
  {
   "cell_type": "code",
   "execution_count": 4,
   "metadata": {},
   "outputs": [],
   "source": [
    "f = rastrigin"
   ]
  },
  {
   "cell_type": "code",
   "execution_count": 5,
   "metadata": {},
   "outputs": [],
   "source": [
    "pop_size        = 20\n",
    "dim             = 2\n",
    "xmin, xmax      = -5.12, 5.12\n",
    "max_epoch       = 1000\n",
    "v_max           = (xmax-xmin) / 20\n",
    "\n",
    "pop             = xmin + np.random.rand(pop_size,dim) * (xmax-xmin)\n",
    "f_pop           = f(pop)\n",
    "v               = v_max * (2*np.random.rand(pop_size,dim)-1)\n",
    "\n",
    "inertia, attraction_pbest, attraction_gbest = 1, 0.3, 0.2\n",
    "\n",
    "pbest          = pop.copy()\n",
    "f_pbest         = f_pop.copy()\n",
    "gbest          = pop[np.argmin(f_pop)]\n",
    "f_gbest         = f_pop[np.argmin(f_pop)]\n",
    "\n",
    "\n",
    "for _ in range(max_epoch):\n",
    "    pop                     = pop + v \n",
    "    pop[pop>xmax]           = xmax\n",
    "    pop[pop<xmin]           = xmin\n",
    "    f_pop                   = f(pop)\n",
    "    f_pbest[f_pbest>f_pop]  = f_pop[f_pbest>f_pop]\n",
    "    pbest[f_pbest>f_pop]    = pop[f_pbest>f_pop]\n",
    "    argbest                 = np.argmin(f_pbest)\n",
    "    gbest                   = pbest[argbest]\n",
    "    f_gbest                 = f_pbest[argbest]\n",
    "\n",
    "    v = inertia * v + attraction_pbest * (pbest - pop) + attraction_gbest(gbest - pop)\n",
    "\n",
    "    v[v>v_max]              = v_max\n",
    "    v[v<-v_max]             = -v_max\n",
    "\n",
    "\n",
    "\n"
   ]
  },
  {
   "cell_type": "code",
   "execution_count": null,
   "metadata": {},
   "outputs": [],
   "source": []
  },
  {
   "cell_type": "code",
   "execution_count": 7,
   "metadata": {},
   "outputs": [],
   "source": [
    "a = np.random.randint(0,100,(5,4))"
   ]
  },
  {
   "cell_type": "code",
   "execution_count": 10,
   "metadata": {},
   "outputs": [],
   "source": [
    "b = np.arange(4)+1"
   ]
  },
  {
   "cell_type": "code",
   "execution_count": 13,
   "metadata": {},
   "outputs": [
    {
     "data": {
      "text/plain": [
       "array([[53, 11, 82, 34],\n",
       "       [23, 22, 21, 50],\n",
       "       [32, 40, 14, 18],\n",
       "       [77, 62, 96, 96],\n",
       "       [21, 19, 68, 42]])"
      ]
     },
     "execution_count": 13,
     "metadata": {},
     "output_type": "execute_result"
    }
   ],
   "source": [
    "a"
   ]
  },
  {
   "cell_type": "code",
   "execution_count": 12,
   "metadata": {},
   "outputs": [
    {
     "data": {
      "text/plain": [
       "array([[53.        ,  5.5       , 27.33333333,  8.5       ],\n",
       "       [23.        , 11.        ,  7.        , 12.5       ],\n",
       "       [32.        , 20.        ,  4.66666667,  4.5       ],\n",
       "       [77.        , 31.        , 32.        , 24.        ],\n",
       "       [21.        ,  9.5       , 22.66666667, 10.5       ]])"
      ]
     },
     "execution_count": 12,
     "metadata": {},
     "output_type": "execute_result"
    }
   ],
   "source": [
    "a/b"
   ]
  },
  {
   "cell_type": "code",
   "execution_count": 11,
   "metadata": {},
   "outputs": [
    {
     "data": {
      "text/plain": [
       "array([1, 2, 3, 4])"
      ]
     },
     "execution_count": 11,
     "metadata": {},
     "output_type": "execute_result"
    }
   ],
   "source": [
    "b"
   ]
  },
  {
   "cell_type": "code",
   "execution_count": 14,
   "metadata": {},
   "outputs": [],
   "source": [
    "def griewank(X):\n",
    "    offset = 0\n",
    "    shape = X.shape\n",
    "    if len(shape)>1:\n",
    "        return np.sum((X+offset)**2/4000,axis=1) - np.prod(np.cos((X+offset)/np.sqrt(np.arange(shape[1])+1)),axis=1) + 1\n",
    "    else: return np.sum((X+offset)**2/4000) - np.prod(np.cos((X+offset)/np.sqrt(np.arange(shape[0])+1))) + 1"
   ]
  },
  {
   "cell_type": "code",
   "execution_count": null,
   "metadata": {},
   "outputs": [],
   "source": [
    "np.arange()"
   ]
  },
  {
   "cell_type": "code",
   "execution_count": 17,
   "metadata": {},
   "outputs": [
    {
     "data": {
      "text/plain": [
       "0.9059004610458478"
      ]
     },
     "execution_count": 17,
     "metadata": {},
     "output_type": "execute_result"
    }
   ],
   "source": [
    "griewank()"
   ]
  },
  {
   "cell_type": "code",
   "execution_count": null,
   "metadata": {},
   "outputs": [],
   "source": []
  }
 ],
 "metadata": {
  "kernelspec": {
   "display_name": "Python 3.10.11 64-bit (microsoft store)",
   "language": "python",
   "name": "python3"
  },
  "language_info": {
   "codemirror_mode": {
    "name": "ipython",
    "version": 3
   },
   "file_extension": ".py",
   "mimetype": "text/x-python",
   "name": "python",
   "nbconvert_exporter": "python",
   "pygments_lexer": "ipython3",
   "version": "3.10.11"
  },
  "orig_nbformat": 4,
  "vscode": {
   "interpreter": {
    "hash": "b1ad5e8ad7d380c83bc85e3e9d9545e0ca7f1df9662bca2fd259e79a6cf84242"
   }
  }
 },
 "nbformat": 4,
 "nbformat_minor": 2
}
