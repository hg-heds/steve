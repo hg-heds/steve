{
 "cells": [
  {
   "cell_type": "code",
   "execution_count": 1,
   "metadata": {},
   "outputs": [],
   "source": [
    "import numpy as np\n",
    "from matplotlib import pyplot as plt"
   ]
  },
  {
   "cell_type": "code",
   "execution_count": 42,
   "metadata": {},
   "outputs": [],
   "source": [
    "def schwefel(X):  # minimum 0 at (420.9687,420.9687,...,420.9687)\n",
    "    offset = 0\n",
    "    shape = X.shape\n",
    "    if len(shape)>1:\n",
    "        return 418.9829 * shape[1] - np.sum((X+offset)*np.sin(np.sqrt(np.abs(X+offset))),axis=1)\n",
    "    else: \n",
    "        return 418.9829 * shape[0] - np.sum((X+offset)*np.sin(np.sqrt(np.abs(X+offset))))"
   ]
  },
  {
   "cell_type": "code",
   "execution_count": 71,
   "metadata": {},
   "outputs": [],
   "source": [
    "def dixon_price(X): # minimum 0 at xi = 2**(-(2**i-2)/2**i)\n",
    "    offset = 0\n",
    "    shape = X.shape\n",
    "    if len(shape)>1:\n",
    "        return (X[:,[0]]-1)**2 + np.sum(np.arange(1,shape[1])*(2*(X[:,1:]+offset)**2-X[:,:-1]-offset)**2,axis=1)\n",
    "    else: \n",
    "        return (X[:,[0]]-1)**2 + np.sum(np.arange(1,shape[0])*(2*(X[:,1:]+offset)**2-X[:,:-1]-offset)**2)"
   ]
  },
  {
   "cell_type": "code",
   "execution_count": 76,
   "metadata": {},
   "outputs": [
    {
     "data": {
      "text/plain": [
       "array([[3, 0, 0],\n",
       "       [3, 1, 2],\n",
       "       [3, 1, 2],\n",
       "       [0, 1, 0],\n",
       "       [1, 4, 4]])"
      ]
     },
     "execution_count": 76,
     "metadata": {},
     "output_type": "execute_result"
    }
   ],
   "source": [
    "a = np.random.randint(0,5,(5,3))\n",
    "a"
   ]
  },
  {
   "cell_type": "code",
   "execution_count": 77,
   "metadata": {},
   "outputs": [
    {
     "data": {
      "text/plain": [
       "array([[0],\n",
       "       [1],\n",
       "       [2],\n",
       "       [3],\n",
       "       [4]])"
      ]
     },
     "execution_count": 77,
     "metadata": {},
     "output_type": "execute_result"
    }
   ],
   "source": [
    "b = np.expand_dims(np.arange(5),axis=1)\n",
    "b"
   ]
  },
  {
   "cell_type": "code",
   "execution_count": 78,
   "metadata": {},
   "outputs": [
    {
     "data": {
      "text/plain": [
       "array([[3, 0, 0],\n",
       "       [4, 2, 3],\n",
       "       [5, 3, 4],\n",
       "       [3, 4, 3],\n",
       "       [5, 8, 8]])"
      ]
     },
     "execution_count": 78,
     "metadata": {},
     "output_type": "execute_result"
    }
   ],
   "source": [
    "a+b"
   ]
  },
  {
   "cell_type": "code",
   "execution_count": null,
   "metadata": {},
   "outputs": [],
   "source": []
  }
 ],
 "metadata": {
  "kernelspec": {
   "display_name": "Python 3.10.11 64-bit (microsoft store)",
   "language": "python",
   "name": "python3"
  },
  "language_info": {
   "codemirror_mode": {
    "name": "ipython",
    "version": 3
   },
   "file_extension": ".py",
   "mimetype": "text/x-python",
   "name": "python",
   "nbconvert_exporter": "python",
   "pygments_lexer": "ipython3",
   "version": "3.10.11"
  },
  "orig_nbformat": 4,
  "vscode": {
   "interpreter": {
    "hash": "b1ad5e8ad7d380c83bc85e3e9d9545e0ca7f1df9662bca2fd259e79a6cf84242"
   }
  }
 },
 "nbformat": 4,
 "nbformat_minor": 2
}
